{
 "cells": [
  {
   "cell_type": "markdown",
   "id": "45762487-d33f-486d-8e38-2cdea04e3528",
   "metadata": {},
   "source": [
    "# Final Project Report\n",
    "\n",
    "* Class: DS 5100\n",
    "* Student Name: Greg Miller\n",
    "* Student Net ID: aem2cz\n",
    "* This URL: https://github.com/millergl89/MonteCarlo_Simulator/blob/main/DS51200_FinalProjectTemplate.ipynb"
   ]
  },
  {
   "cell_type": "markdown",
   "id": "acf756c1-ecaa-41dc-b6ca-d566eb94560b",
   "metadata": {},
   "source": [
    "# Instructions\n",
    "\n",
    "Follow the instructions in the Final Project isntructions notebook and put evidence of your work in this notebook.\n",
    "\n",
    "Total points for each subsection under **Deliverables** and **Scenarios** are given in parentheses.\n",
    "\n",
    "Breakdowns of points within subsections are specified within subsection instructions as bulleted lists.\n",
    "\n",
    "This project is worth **50 points**."
   ]
  },
  {
   "cell_type": "markdown",
   "id": "89dc7a32-f682-4402-8c1e-b6ccdb3e0e39",
   "metadata": {},
   "source": [
    "# Deliverables"
   ]
  },
  {
   "cell_type": "markdown",
   "id": "d32cb273-9a40-4909-a7ce-51f6e4958d3c",
   "metadata": {},
   "source": [
    "## The Monte Carlo Module (10)\n",
    "\n",
    "- URL included, appropriately named (1).\n",
    "- Includes all three specified classes (3).\n",
    "- Includes at least all 12 specified methods (6; .5 each)."
   ]
  },
  {
   "cell_type": "markdown",
   "id": "f5f3b070-de9e-4de9-bfae-8974d184aa28",
   "metadata": {},
   "source": [
    "Put the URL to your GitHub repo here.\n",
    "\n",
    "Repo URL: https://github.com/millergl89/MonteCarlo_Simulator"
   ]
  },
  {
   "cell_type": "markdown",
   "id": "162370fb-3729-4c85-b040-8c25b2c966d2",
   "metadata": {},
   "source": [
    "Paste a copyy of your module here.\n",
    "\n",
    "NOTE: Paste as text, not as code. Use triple backticks to wrap your code blocks."
   ]
  },
  {
   "cell_type": "code",
   "execution_count": null,
   "id": "d093049b-302b-4f05-8dce-529d33db4710",
   "metadata": {
    "tags": []
   },
   "outputs": [],
   "source": [
    "```\n",
    "import numpy as np\n",
    "import pandas as pd\n",
    "\n",
    "class Die:\n",
    "    \"\"\"\n",
    "    A die has N sides, or “faces”, and W weights, and can be rolled to select a face.\n",
    "\n",
    "    Each face contains a unique symbol (either all strings or all numbers). Weights default to 1.0 but can be changed.\n",
    "\n",
    "    Attributes\n",
    "        __df : pandas.DataFrame\n",
    "            A private dataframe indexed by face, with a column for the weight.\n",
    "\n",
    "    Methods\n",
    "        change_weight(face, new_weight):\n",
    "            Change the weight of a single face after initialization.\n",
    "        \n",
    "        roll(times=1):\n",
    "            Roll the die one or more times.\n",
    "\n",
    "        show():\n",
    "            Return a copy of the die’s current state.\n",
    "    \"\"\"\n",
    "\n",
    "    def __init__(self, faces):\n",
    "        \"\"\"\n",
    "        Initialize the Die with a NumPy array of unique faces.\n",
    "\n",
    "        Parameters\n",
    "            faces : numpy.ndarray\n",
    "                Array of face symbols (must be unique and of a consistent type).\n",
    "        \"\"\"\n",
    "        if not isinstance(faces, np.ndarray):\n",
    "            raise TypeError(\"Faces must be a NumPy array.\")\n",
    "        if len(np.unique(faces)) != len(faces):\n",
    "            raise ValueError(\"All face values must be unique.\")\n",
    "\n",
    "        self.__df = pd.DataFrame({\n",
    "            'weight': np.ones(len(faces), dtype=float)\n",
    "        }, index=faces)\n",
    "\n",
    "    def change_weight(self, face, new_weight):\n",
    "        \"\"\"\n",
    "        Change the weight of a single face.\n",
    "\n",
    "        Parameters\n",
    "            face : object\n",
    "                The face value whose weight is to be changed.\n",
    "            new_weight : float or int\n",
    "                The new weight to assign. Must be numeric.\n",
    "        \"\"\"\n",
    "        if face not in self.__df.index:\n",
    "            raise IndexError(\"Not a valid face.\")\n",
    "        try:\n",
    "            new_weight = float(new_weight)\n",
    "        except (ValueError, TypeError):\n",
    "            raise TypeError(\"Weight must be numeric.\")\n",
    "        self.__df.loc[face, 'weight'] = new_weight\n",
    "\n",
    "    def roll(self, times=1):\n",
    "        \"\"\"\n",
    "        Roll the die one or more times.\n",
    "\n",
    "        Parameters\n",
    "            times : int, optional\n",
    "                The number of times to roll the die. Default is 1.\n",
    "\n",
    "        Returns\n",
    "            list\n",
    "                List of outcomes from rolling the die.\n",
    "        \"\"\"\n",
    "        faces = self.__df.index.to_numpy()\n",
    "        weights = self.__df['weight'].to_numpy()\n",
    "        rolls = np.random.choice(faces, size=times, replace=True, p=weights / weights.sum())\n",
    "        return rolls.tolist()\n",
    "\n",
    "    def show(self):\n",
    "        \"\"\"\n",
    "        Show the current state of the die.\n",
    "\n",
    "        Returns\n",
    "            pandas.DataFrame\n",
    "                A copy of the internal dataframe showing faces and weights.\n",
    "        \"\"\"\n",
    "        return self.__df.copy()\n",
    "\n",
    "\n",
    "class Game:\n",
    "    \"\"\"\n",
    "    A game consists of rolling one or more similar Die objects one or more times.\n",
    "\n",
    "    Dice in a game must have the same faces, but may have different weights.\n",
    "\n",
    "    Attributes\n",
    "        dice_list : list\n",
    "            List of Die objects used in the game.\n",
    "        _play_df : pandas.DataFrame or None\n",
    "            Private dataframe storing the most recent game play results.\n",
    "\n",
    "    Methods\n",
    "        play(num_rolls):\n",
    "            Roll all dice a given number of times and store the result.\n",
    "        show(form='wide'):\n",
    "            Show the results of the most recent play in wide or narrow format.\n",
    "    \"\"\"\n",
    "\n",
    "    def __init__(self, dice_list):\n",
    "        self.dice = dice_list\n",
    "        self._play_df = None\n",
    "\n",
    "    def play(self, num_rolls):\n",
    "        \"\"\"\n",
    "        Roll all dice a specified number of times.\n",
    "\n",
    "        Parameters\n",
    "            num_rolls : int\n",
    "                Number of times to roll each die.\n",
    "\n",
    "        Updates\n",
    "            self._play_df : pandas.DataFrame\n",
    "                Stores results of the play in wide format.\n",
    "        \"\"\"\n",
    "        results = {}\n",
    "        for i, die in enumerate(self.dice):\n",
    "            rolls = die.roll(num_rolls)\n",
    "            results[i] = rolls\n",
    "\n",
    "        self._play_df = pd.DataFrame(results)\n",
    "        self._play_df.index.name = 'Roll'\n",
    "\n",
    "    def show(self, form='wide'):\n",
    "        \"\"\"\n",
    "        Show the result of the most recent play.\n",
    "\n",
    "        Parameters\n",
    "            form : str, optional\n",
    "                'wide' (default) returns wide format with roll numbers as index.\n",
    "                'narrow' returns a MultiIndex with roll and die number.\n",
    "\n",
    "        Returns\n",
    "            pandas.DataFrame\n",
    "                Copy of the results dataframe in the specified format.\n",
    "        \"\"\"\n",
    "        if self._play_df is None:\n",
    "            raise ValueError(\"No game has been played yet.\")\n",
    "\n",
    "        if form == 'wide':\n",
    "            return self._play_df.copy()\n",
    "\n",
    "        elif form == 'narrow':\n",
    "            narrow_df = self._play_df.stack()\n",
    "            narrow_df.index.set_names(['Roll', 'Die'], inplace=True)\n",
    "            narrow_df.name = 'Outcome'\n",
    "            return narrow_df.to_frame()\n",
    "\n",
    "        else:\n",
    "            raise ValueError(\"Invalid form. Use 'wide' or 'narrow'.\")\n",
    "\n",
    "\n",
    "class Analyzer:\n",
    "    \"\"\"\n",
    "    Analyzer class to compute descriptive statistical properties of a Game object.\n",
    "\n",
    "    Attributes\n",
    "        game : Game\n",
    "            The Game object to analyze.\n",
    "            \n",
    "        results : pandas.DataFrame\n",
    "            A copy of the game's most recent play results in wide format.\n",
    "\n",
    "    Methods\n",
    "        jackpot():\n",
    "            Count how many times all dice had the same face value.\n",
    "\n",
    "        face_counts_per_roll():\n",
    "            Count the number of times each face appeared per roll.\n",
    "\n",
    "        combo_count():\n",
    "            Count occurrences of unique combinations of face values (order-independent).\n",
    "\n",
    "        permutation_count():\n",
    "            Count occurrences of unique permutations of face values (order-dependent).\n",
    "    \"\"\"\n",
    "\n",
    "    def __init__(self, game):\n",
    "        \"\"\"\n",
    "        Initialize the Analyzer with a Game object.\n",
    "\n",
    "        Parameters\n",
    "            game : Game\n",
    "                The Game object to analyze.\n",
    "        \"\"\"\n",
    "        if not isinstance(game, Game):\n",
    "            raise ValueError(\"Input must be a Game object.\")\n",
    "\n",
    "        self.game = game\n",
    "        self.results = self.game.show(form='wide').copy()\n",
    "\n",
    "    def jackpot(self):\n",
    "        \"\"\"\n",
    "        Count how many times the roll resulted in all dice showing the same face.\n",
    "\n",
    "        Returns\n",
    "            int\n",
    "                Number of jackpot outcomes (all dice in a roll show the same face).\n",
    "        \"\"\"\n",
    "        return int((self.results.nunique(axis=1) == 1).sum())\n",
    "\n",
    "    def face_counts_per_roll(self):\n",
    "        \"\"\"\n",
    "        Count the number of times each face appeared in each roll.\n",
    "\n",
    "        Returns\n",
    "            counts - pandas.DataFrame\n",
    "                A dataframe with roll numbers as index and face counts as columns.\n",
    "                Missing face counts are filled with 0.\n",
    "        \"\"\"\n",
    "        counts = self.results.apply(lambda row: row.value_counts(), axis=1)\n",
    "        return counts.fillna(0).astype(int)\n",
    "\n",
    "    def combo_count(self):\n",
    "        \"\"\"\n",
    "        Count unique combinations of rolled faces (order-independent).\n",
    "\n",
    "        Returns\n",
    "            combo_counts - pandas.DataFrame\n",
    "                A dataframe with MultiIndex of combinations and counts.\n",
    "        \"\"\"\n",
    "        combos = self.results.apply(lambda row: tuple(sorted(row)), axis=1)\n",
    "        combo_counts = combos.value_counts().to_frame(name='Count')\n",
    "        combo_counts.index.name = 'Combination'\n",
    "        return combo_counts\n",
    "\n",
    "    def permutation_count(self):\n",
    "        \"\"\"\n",
    "        Count unique permutations of rolled faces (order-dependent).\n",
    "\n",
    "        Returns\n",
    "            perm_counts - pandas.DataFrame\n",
    "                A dataframe with MultiIndex of permutations and counts.\n",
    "        \"\"\"\n",
    "        perms = self.results.apply(lambda row: tuple(row), axis=1)\n",
    "        perm_counts = perms.value_counts().to_frame(name='Count')\n",
    "        perm_counts.index.name = 'Permutation'\n",
    "        return perm_counts\n",
    "```"
   ]
  },
  {
   "cell_type": "markdown",
   "id": "6377727a-8f0a-491e-9f1c-d9dc225edd35",
   "metadata": {},
   "source": [
    "## Unitest Module (2)\n",
    "\n",
    "Paste a copy of your test module below.\n",
    "\n",
    "NOTE: Paste as text, not as code. Use triple backticks to wrap your code blocks.\n",
    "\n",
    "- All methods have at least one test method (1).\n",
    "- Each method employs one of Unittest's Assert methods (1)."
   ]
  },
  {
   "cell_type": "raw",
   "id": "f7fd8d01-50f5-4168-aa81-ca7ae084ef88",
   "metadata": {},
   "source": [
    "```\n",
    "import unittest\n",
    "import numpy as np\n",
    "import pandas as pd\n",
    "from montecarlo.MonteCarlo import Die, Game, Analyzer\n",
    "\n",
    "class TestDie(unittest.TestCase):\n",
    "\n",
    "\n",
    "    def test_init_non_array_faces(self):\n",
    "        with self.assertRaises(TypeError):\n",
    "            Die(['H', 'T'])\n",
    "\n",
    "    def test_change_weight(self):\n",
    "        die = Die(np.array(['A', 'B']))\n",
    "        die.change_weight('A', 2.0)\n",
    "        self.assertEqual(die.show().loc['A', 'weight'], 2.0)\n",
    "\n",
    "    def test_roll(self):\n",
    "        die = Die(np.array(['A', 'B']))\n",
    "        rolls = die.roll(5)\n",
    "        self.assertEqual(len(rolls), 5)\n",
    "        self.assertTrue(all(r in ['A', 'B'] for r in rolls))\n",
    "\n",
    "    def test_show(self):\n",
    "        die = Die(np.array(['A', 'B']))\n",
    "        df = die.show()\n",
    "        self.assertIsInstance(df, pd.DataFrame)\n",
    "\n",
    "\n",
    "class TestGame(unittest.TestCase):\n",
    "\n",
    "    def test_init_valid_dice(self):\n",
    "        die1 = Die(np.array(['A', 'B']))\n",
    "        die2 = Die(np.array(['A', 'B']))\n",
    "        game = Game([die1, die2])\n",
    "        self.assertEqual(len(game.dice), 2)\n",
    "        self.assertIsNone(game._play_df)\n",
    "\n",
    "    def test_play(self):\n",
    "        die = Die(np.array(['X', 'Y']))\n",
    "        game = Game([die, die])\n",
    "        game.play(3)\n",
    "        # Check the shape of the result after playing\n",
    "        self.assertEqual(game._play_df.shape, (3, 2))  # 3 rolls and 2 dice\n",
    "\n",
    "    def test_show(self):\n",
    "        die = Die(np.array(['X', 'Y']))\n",
    "        game = Game([die, die])\n",
    "        game.play(3)\n",
    "        df = game.show()\n",
    "        # Ensure the show method works correctly\n",
    "        self.assertEqual(df.shape, (3, 2))  # The same shape as the play result\n",
    "        self.assertIsInstance(df, pd.DataFrame)\n",
    "\n",
    "\n",
    "class TestAnalyzer(unittest.TestCase):\n",
    "\n",
    "    def test_init_valid_game(self):\n",
    "        die = Die(np.array(['A', 'B']))\n",
    "        game = Game([die, die])\n",
    "        game.play(3)\n",
    "        analyzer = Analyzer(game)\n",
    "        self.assertTrue(isinstance(analyzer.results, pd.DataFrame))\n",
    "        self.assertEqual(analyzer.results.shape[0], 3)\n",
    "\n",
    "    def test_jackpot(self):\n",
    "        die = Die(np.array(['A', 'B']))  # Valid unique faces\n",
    "        game = Game([die, die])\n",
    "        game.play(5)\n",
    "        analyzer = Analyzer(game)\n",
    "        result = analyzer.jackpot()\n",
    "        self.assertIsInstance(result, (int, np.integer))\n",
    "        self.assertGreaterEqual(result, 0)\n",
    "\n",
    "    def test_face_counts_per_roll(self):\n",
    "        die = Die(np.array(['1', '2']))\n",
    "        game = Game([die, die])\n",
    "        game.play(5)\n",
    "        analyzer = Analyzer(game)\n",
    "        counts = analyzer.face_counts_per_roll()\n",
    "        self.assertEqual(counts.shape[0], 5)\n",
    "\n",
    "    def test_combo_count(self):\n",
    "        die = Die(np.array(['1', '2']))\n",
    "        game = Game([die, die])\n",
    "        game.play(5)\n",
    "        analyzer = Analyzer(game)\n",
    "        combos = analyzer.combo_count()\n",
    "        self.assertTrue(isinstance(combos, pd.DataFrame))\n",
    "        self.assertGreater(len(combos), 0)  # Ensure that combinations are found\n",
    "\n",
    "    def test_permutation_count(self):\n",
    "        die = Die(np.array(['1', '2']))\n",
    "        game = Game([die, die])\n",
    "        game.play(5)\n",
    "        analyzer = Analyzer(game)\n",
    "        perms = analyzer.permutation_count()\n",
    "        self.assertTrue(isinstance(perms, pd.DataFrame))\n",
    "        self.assertGreater(len(perms), 0)  # Ensure that permutations are found\n",
    "\n",
    "if __name__ == '__main__':\n",
    "    unittest.main()\n",
    "\n",
    "```"
   ]
  },
  {
   "cell_type": "markdown",
   "id": "3e058d03-29bc-408f-b36d-0605b4f4b8c0",
   "metadata": {
    "tags": []
   },
   "source": [
    "## Unittest Results (3)\n",
    "\n",
    "Put a copy of the results of running your tests from the command line here.\n",
    "\n",
    "Again, paste as text using triple backticks.\n",
    "\n",
    "- All 12 specified methods return OK (3; .25 each)."
   ]
  },
  {
   "attachments": {
    "b6eed9d6-7c9d-4aee-b553-83391c3448ee.png": {
     "image/png": "[encoded data removed]"
    }
   },
   "cell_type": "markdown",
   "id": "810b2e7e-bea5-4545-b110-b0b6e7e3553e",
   "metadata": {
    "tags": []
   },
   "source": [
    "![image.png](attachment:b6eed9d6-7c9d-4aee-b553-83391c3448ee.png)"
   ]
  },
  {
   "cell_type": "markdown",
   "id": "d9ffe8c5-eb2f-4ad1-af76-a46550e4c7ac",
   "metadata": {},
   "source": [
    "## Import (1)\n",
    "\n",
    "Import your module here. This import should refer to the code in your package directory.\n",
    "\n",
    "- Module successuflly imported (1)."
   ]
  },
  {
   "cell_type": "code",
   "execution_count": 1,
   "id": "a05dffb3-e6d6-4f78-9df4-5abd0cf74ca9",
   "metadata": {
    "tags": []
   },
   "outputs": [],
   "source": [
    "from montecarlo.MonteCarlo import Die, Game, Analyzer"
   ]
  },
  {
   "cell_type": "markdown",
   "id": "f30c4842-65b1-4556-98b6-3fe1a07e1371",
   "metadata": {},
   "source": [
    "## Help Docs (4)\n",
    "\n",
    "Show your docstring documentation by applying `help()` to your imported module.\n",
    "\n",
    "- All methods have a docstring (3; .25 each).\n",
    "- All classes have a docstring (1; .33 each)."
   ]
  },
  {
   "cell_type": "code",
   "execution_count": 8,
   "id": "bf4fbf1f-9885-471c-a0a6-e9ca90e160de",
   "metadata": {
    "tags": []
   },
   "outputs": [
    {
     "name": "stdout",
     "output_type": "stream",
     "text": [
      "Help on module montecarlo.MonteCarlo in montecarlo:\n",
      "\n",
      "NAME\n",
      "    montecarlo.MonteCarlo\n",
      "\n",
      "CLASSES\n",
      "    builtins.object\n",
      "        Analyzer\n",
      "        Die\n",
      "        Game\n",
      "    \n",
      "    class Analyzer(builtins.object)\n",
      "     |  Analyzer class to compute descriptive statistical properties of a Game object.\n",
      "     |  \n",
      "     |  Attributes\n",
      "     |      game : Game\n",
      "     |          The Game object to analyze.\n",
      "     |          \n",
      "     |      results : pandas.DataFrame\n",
      "     |          A copy of the game's most recent play results in wide format.\n",
      "     |  \n",
      "     |  Methods\n",
      "     |      jackpot():\n",
      "     |          Count how many times all dice had the same face value.\n",
      "     |  \n",
      "     |      face_counts_per_roll():\n",
      "     |          Count the number of times each face appeared per roll.\n",
      "     |  \n",
      "     |      combo_count():\n",
      "     |          Count occurrences of unique combinations of face values (order-independent).\n",
      "     |  \n",
      "     |      permutation_count():\n",
      "     |          Count occurrences of unique permutations of face values (order-dependent).\n",
      "     |  \n",
      "     |  Methods defined here:\n",
      "     |  \n",
      "     |  __init__(self, game)\n",
      "     |      Initialize the Analyzer with a Game object.\n",
      "     |      \n",
      "     |      Parameters\n",
      "     |          game : Game\n",
      "     |              The Game object to analyze.\n",
      "     |  \n",
      "     |  combo_count(self)\n",
      "     |      Count unique combinations of rolled faces (order-independent).\n",
      "     |      \n",
      "     |      Returns\n",
      "     |          combo_counts - pandas.DataFrame\n",
      "     |              A dataframe with MultiIndex of combinations and counts.\n",
      "     |  \n",
      "     |  face_counts_per_roll(self)\n",
      "     |      Count the number of times each face appeared in each roll.\n",
      "     |      \n",
      "     |      Returns\n",
      "     |          counts - pandas.DataFrame\n",
      "     |              A dataframe with roll numbers as index and face counts as columns.\n",
      "     |              Missing face counts are filled with 0.\n",
      "     |  \n",
      "     |  jackpot(self)\n",
      "     |      Count how many times the roll resulted in all dice showing the same face.\n",
      "     |      \n",
      "     |      Returns\n",
      "     |          int\n",
      "     |              Number of jackpot outcomes (all dice in a roll show the same face).\n",
      "     |  \n",
      "     |  permutation_count(self)\n",
      "     |      Count unique permutations of rolled faces (order-dependent).\n",
      "     |      \n",
      "     |      Returns\n",
      "     |          perm_counts - pandas.DataFrame\n",
      "     |              A dataframe with MultiIndex of permutations and counts.\n",
      "     |  \n",
      "     |  ----------------------------------------------------------------------\n",
      "     |  Data descriptors defined here:\n",
      "     |  \n",
      "     |  __dict__\n",
      "     |      dictionary for instance variables (if defined)\n",
      "     |  \n",
      "     |  __weakref__\n",
      "     |      list of weak references to the object (if defined)\n",
      "    \n",
      "    class Die(builtins.object)\n",
      "     |  A die has N sides, or “faces”, and W weights, and can be rolled to select a face.\n",
      "     |  \n",
      "     |  Each face contains a unique symbol (either all strings or all numbers). Weights default to 1.0 but can be changed.\n",
      "     |  \n",
      "     |  Attributes\n",
      "     |      __df : pandas.DataFrame\n",
      "     |          A private dataframe indexed by face, with a column for the weight.\n",
      "     |  \n",
      "     |  Methods\n",
      "     |      change_weight(face, new_weight):\n",
      "     |          Change the weight of a single face after initialization.\n",
      "     |      \n",
      "     |      roll(times=1):\n",
      "     |          Roll the die one or more times.\n",
      "     |  \n",
      "     |      show():\n",
      "     |          Return a copy of the die’s current state.\n",
      "     |  \n",
      "     |  Methods defined here:\n",
      "     |  \n",
      "     |  __init__(self, faces)\n",
      "     |      Initialize the Die with a NumPy array of unique faces.\n",
      "     |      \n",
      "     |      Parameters\n",
      "     |          faces : numpy.ndarray\n",
      "     |              Array of face symbols (must be unique and of a consistent type).\n",
      "     |  \n",
      "     |  change_weight(self, face, new_weight)\n",
      "     |      Change the weight of a single face.\n",
      "     |      \n",
      "     |      Parameters\n",
      "     |          face : object\n",
      "     |              The face value whose weight is to be changed.\n",
      "     |          new_weight : float or int\n",
      "     |              The new weight to assign. Must be numeric.\n",
      "     |  \n",
      "     |  roll(self, times=1)\n",
      "     |      Roll the die one or more times.\n",
      "     |      \n",
      "     |      Parameters\n",
      "     |          times : int, optional\n",
      "     |              The number of times to roll the die. Default is 1.\n",
      "     |      \n",
      "     |      Returns\n",
      "     |          list\n",
      "     |              List of outcomes from rolling the die.\n",
      "     |  \n",
      "     |  show(self)\n",
      "     |      Show the current state of the die.\n",
      "     |      \n",
      "     |      Returns\n",
      "     |          pandas.DataFrame\n",
      "     |              A copy of the internal dataframe showing faces and weights.\n",
      "     |  \n",
      "     |  ----------------------------------------------------------------------\n",
      "     |  Data descriptors defined here:\n",
      "     |  \n",
      "     |  __dict__\n",
      "     |      dictionary for instance variables (if defined)\n",
      "     |  \n",
      "     |  __weakref__\n",
      "     |      list of weak references to the object (if defined)\n",
      "    \n",
      "    class Game(builtins.object)\n",
      "     |  A game consists of rolling one or more similar Die objects one or more times.\n",
      "     |  \n",
      "     |  Dice in a game must have the same faces, but may have different weights.\n",
      "     |  \n",
      "     |  Attributes\n",
      "     |      dice_list : list\n",
      "     |          List of Die objects used in the game.\n",
      "     |      _play_df : pandas.DataFrame or None\n",
      "     |          Private dataframe storing the most recent game play results.\n",
      "     |  \n",
      "     |  Methods\n",
      "     |      play(num_rolls):\n",
      "     |          Roll all dice a given number of times and store the result.\n",
      "     |      show(form='wide'):\n",
      "     |          Show the results of the most recent play in wide or narrow format.\n",
      "     |  \n",
      "     |  Methods defined here:\n",
      "     |  \n",
      "     |  __init__(self, dice_list)\n",
      "     |      Initialize self.  See help(type(self)) for accurate signature.\n",
      "     |  \n",
      "     |  play(self, num_rolls)\n",
      "     |      Roll all dice a specified number of times.\n",
      "     |      \n",
      "     |      Parameters\n",
      "     |          num_rolls : int\n",
      "     |              Number of times to roll each die.\n",
      "     |      \n",
      "     |      Updates\n",
      "     |          self._play_df : pandas.DataFrame\n",
      "     |              Stores results of the play in wide format.\n",
      "     |  \n",
      "     |  show(self, form='wide')\n",
      "     |      Show the result of the most recent play.\n",
      "     |      \n",
      "     |      Parameters\n",
      "     |          form : str, optional\n",
      "     |              'wide' (default) returns wide format with roll numbers as index.\n",
      "     |              'narrow' returns a MultiIndex with roll and die number.\n",
      "     |      \n",
      "     |      Returns\n",
      "     |          pandas.DataFrame\n",
      "     |              Copy of the results dataframe in the specified format.\n",
      "     |  \n",
      "     |  ----------------------------------------------------------------------\n",
      "     |  Data descriptors defined here:\n",
      "     |  \n",
      "     |  __dict__\n",
      "     |      dictionary for instance variables (if defined)\n",
      "     |  \n",
      "     |  __weakref__\n",
      "     |      list of weak references to the object (if defined)\n",
      "\n",
      "FILE\n",
      "    /sfs/gpfs/tardis/home/aem2cz/FinalProject/MonteCarlo_Simulator/montecarlo/MonteCarlo.py\n",
      "\n",
      "\n"
     ]
    }
   ],
   "source": [
    "help(montecarlo.MonteCarlo)"
   ]
  },
  {
   "cell_type": "markdown",
   "id": "a9defa84-b395-4966-bd1c-5c6c2bb7ed68",
   "metadata": {},
   "source": [
    "## `README.md` File (3)\n",
    "\n",
    "Provide link to the README.md file of your project's repo.\n",
    "\n",
    "- Metadata section or info present (1).\n",
    "- Synopsis section showing how each class is called (1). (All must be included.)\n",
    "- API section listing all classes and methods (1). (All must be included.)"
   ]
  },
  {
   "cell_type": "markdown",
   "id": "ee090b33-d593-48a0-bf35-e739cea0942c",
   "metadata": {},
   "source": [
    "URL:https://github.com/millergl89/MonteCarlo_Simulator/blob/main/README.md"
   ]
  },
  {
   "cell_type": "markdown",
   "id": "108604c8-8827-42ef-ab59-6b25428fc0ca",
   "metadata": {},
   "source": [
    "## Successful installation (2)\n",
    "\n",
    "Put a screenshot or paste a copy of a terminal session where you successfully install your module with pip.\n",
    "\n",
    "If pasting text, use a preformatted text block to show the results.\n",
    "\n",
    "- Installed with `pip` (1).\n",
    "- Successfully installed message appears (1)."
   ]
  },
  {
   "attachments": {
    "f37ba825-94f9-41be-9ac1-664aa007ddb1.png": {
     "image/png": "[encoded data removed]"
    }
   },
   "cell_type": "markdown",
   "id": "cd0a81a4-400e-4566-a7de-f00ff8d76860",
   "metadata": {},
   "source": [
    "![image.png](attachment:f37ba825-94f9-41be-9ac1-664aa007ddb1.png)"
   ]
  },
  {
   "cell_type": "markdown",
   "id": "7c44695d-d1b3-4edf-9f94-e64d7446f199",
   "metadata": {},
   "source": [
    "# Scenarios\n",
    "\n",
    "Use code blocks to perform the tasks for each scenario.\n",
    "\n",
    "Be sure the outputs are visible before submitting."
   ]
  },
  {
   "cell_type": "markdown",
   "id": "e2479eae-6fc9-44cd-b8d7-9b22cb501f2a",
   "metadata": {
    "tags": []
   },
   "source": [
    "## Scenario 1: A 2-headed Coin (9)\n",
    "\n",
    "Task 1. Create a fair coin (with faces $H$ and $T$) and one unfair coin in which one of the faces has a weight of $5$ and the others $1$.\n",
    "\n",
    "- Fair coin created (1).\n",
    "- Unfair coin created with weight as specified (1)."
   ]
  },
  {
   "cell_type": "code",
   "execution_count": 14,
   "id": "55ce498e-c75f-4425-9e3e-b635bd6cd9e1",
   "metadata": {},
   "outputs": [],
   "source": [
    "import numpy as np\n",
    "fair_coin = Die(np.array([\"H\", \"T\"]))\n",
    "\n",
    "unfair_coin = Die(np.array([\"H\", \"T\"]))\n",
    "unfair_coin.change_weight(\"H\", 5)\n"
   ]
  },
  {
   "cell_type": "markdown",
   "id": "02b272ab-99da-4b6e-ac2a-555b73e09c07",
   "metadata": {},
   "source": [
    "Task 2. Play a game of $1000$ flips with two fair dice.\n",
    "\n",
    "- Play method called correclty and without error (1)."
   ]
  },
  {
   "cell_type": "code",
   "execution_count": 21,
   "id": "65c92601-d32d-4326-b215-74953aee27f2",
   "metadata": {},
   "outputs": [],
   "source": [
    "fair_game = Game([fair_coin, fair_coin])\n",
    "fair_game.play(num_rolls =1000)"
   ]
  },
  {
   "cell_type": "markdown",
   "id": "7d9c3dc8-22c1-4cae-81fb-d68d774a05d1",
   "metadata": {},
   "source": [
    "Task 3. Play another game (using a new Game object) of $1000$ flips, this time using two unfair dice and one fair die. For the second unfair die, you can use the same die object twice in the list of dice you pass to the Game object.\n",
    "\n",
    "- New game object created (1).\n",
    "- Play method called correclty and without error (1)."
   ]
  },
  {
   "cell_type": "code",
   "execution_count": 20,
   "id": "d4098bed-1eb2-4084-8d5e-9fda07c3be43",
   "metadata": {},
   "outputs": [],
   "source": [
    "unfair_game = Game([unfair_coin, unfair_coin, fair_coin])\n",
    "unfair_game.play(num_rolls =1000)"
   ]
  },
  {
   "cell_type": "markdown",
   "id": "f690ebfc-fe71-4eb2-976d-7ac80ca6c23f",
   "metadata": {},
   "source": [
    "Task 4. For each game, use an Analyzer object to determine the raw frequency of jackpots — i.e. getting either all $H$s or all $T$s.\n",
    "\n",
    "- Analyzer objecs instantiated for both games (1).\n",
    "- Raw frequencies reported for both (1)."
   ]
  },
  {
   "cell_type": "code",
   "execution_count": 26,
   "id": "b26b8b7e-3be7-4476-a9a4-37d97536729e",
   "metadata": {},
   "outputs": [
    {
     "name": "stdout",
     "output_type": "stream",
     "text": [
      "510\n",
      "374\n"
     ]
    }
   ],
   "source": [
    "analyzer_fair = Analyzer(fair_game)\n",
    "analyzer_unfair = Analyzer(unfair_game)\n",
    "\n",
    "print(analyzer_fair.jackpot())\n",
    "print(analyzer_unfair.jackpot())"
   ]
  },
  {
   "cell_type": "markdown",
   "id": "b73d233c-445e-40cd-8858-0c5e1f097105",
   "metadata": {},
   "source": [
    "Task 5. For each analyzer, compute relative frequency as the number of jackpots over the total number of rolls.\n",
    "\n",
    "- Both relative frequencies computed (1)."
   ]
  },
  {
   "cell_type": "code",
   "execution_count": 31,
   "id": "9a96b31b-1b9d-496e-be3e-4bf83c45ec3a",
   "metadata": {},
   "outputs": [
    {
     "name": "stdout",
     "output_type": "stream",
     "text": [
      "0.51\n",
      "0.374\n"
     ]
    }
   ],
   "source": [
    "freq_fair = analyzer_fair.jackpot()/1000\n",
    "freq_unfair = analyzer_unfair.jackpot()/1000\n",
    "\n",
    "print(freq_fair)\n",
    "print(freq_unfair)"
   ]
  },
  {
   "cell_type": "markdown",
   "id": "a6e1e734-7f5c-4721-8ba4-2f3a424cf984",
   "metadata": {},
   "source": [
    "Task 6. Show your results, comparing the two relative frequencies, in a simple bar chart.\n",
    "\n",
    "- Bar chart plotted and correct (1)."
   ]
  },
  {
   "cell_type": "code",
   "execution_count": 46,
   "id": "473fa67c-aa53-4aa3-a0b7-e8772b3f6ed3",
   "metadata": {},
   "outputs": [
    {
     "data": {
      "text/plain": [
       "<matplotlib.axes._subplots.AxesSubplot at 0x7f8b8c7f1550>"
      ]
     },
     "execution_count": 46,
     "metadata": {},
     "output_type": "execute_result"
    },
    {
     "data": {
      "image/png": "[encoded data removed]",
      "text/plain": [
       "<Figure size 432x288 with 1 Axes>"
      ]
     },
     "metadata": {
      "needs_background": "light"
     },
     "output_type": "display_data"
    }
   ],
   "source": [
    "import pandas as pd\n",
    "\n",
    "df = pd.DataFrame({\n",
    "    'Coin Type': ['Fair', 'Unfair'],\n",
    "    'Relative Jackpot Frequency': [freq_fair, freq_unfair]\n",
    "})\n",
    "\n",
    "df.plot(kind='bar', x='Coin Type', y='Relative Jackpot Frequency',\n",
    "        title='Jackpots',\n",
    "        legend=False, rot=0)"
   ]
  },
  {
   "cell_type": "markdown",
   "id": "725cfa5b-e4b7-47c9-86aa-8d9e1fe6c8c7",
   "metadata": {},
   "source": [
    "## Scenario 2: A 6-sided Die (9)\n",
    "\n",
    "Task 1. Create three dice, each with six sides having the faces 1 through 6.\n",
    "\n",
    "- Three die objects created (1)."
   ]
  },
  {
   "cell_type": "code",
   "execution_count": 53,
   "id": "6a8bc611-325a-4e05-88d5-980e0a2cf7c5",
   "metadata": {},
   "outputs": [],
   "source": [
    "die1 = Die(np.array([1, 2, 3, 4, 5, 6]))\n",
    "die2 = Die(np.array([1, 2, 3, 4, 5, 6]))\n",
    "die3 = Die(np.array([1, 2, 3, 4, 5, 6]))\n"
   ]
  },
  {
   "cell_type": "markdown",
   "id": "2ed3ad26-fbe9-43bd-9ad7-f683a4191d12",
   "metadata": {},
   "source": [
    "Task 2. Convert one of the dice to an unfair one by weighting the face $6$ five times more than the other weights (i.e. it has weight of 5 and the others a weight of 1 each).\n",
    "\n",
    "- Unfair die created with proper call to weight change method (1)."
   ]
  },
  {
   "cell_type": "code",
   "execution_count": 50,
   "id": "e33dd18f-7f90-456d-a680-61c08a328e21",
   "metadata": {},
   "outputs": [],
   "source": [
    "die3.change_weight(6, 5)"
   ]
  },
  {
   "cell_type": "markdown",
   "id": "7f6c062a-4c5b-45b9-96b8-76a0354c7e47",
   "metadata": {},
   "source": [
    "Task 3. Convert another of the dice to be unfair by weighting the face $1$ five times more than the others.\n",
    "\n",
    "- Unfair die created with proper call to weight change method (1)."
   ]
  },
  {
   "cell_type": "code",
   "execution_count": 51,
   "id": "01133a4e-6b06-4246-8d90-8e6d6995be51",
   "metadata": {},
   "outputs": [],
   "source": [
    "die2.change_weight(1, 5)"
   ]
  },
  {
   "cell_type": "markdown",
   "id": "f0ed31cb-0a3c-4eb2-b85e-6ed6b2eb6e58",
   "metadata": {},
   "source": [
    "Task 4. Play a game of $10000$ rolls with $5$ fair dice.\n",
    "\n",
    "- Game class properly instantiated (1). \n",
    "- Play method called properly (1)."
   ]
  },
  {
   "cell_type": "code",
   "execution_count": 55,
   "id": "e92395a4-9ed8-4cb0-8c85-38768a784ffc",
   "metadata": {},
   "outputs": [],
   "source": [
    "fair_die_game = Game([die1, die1, die1, die1, die1])\n",
    "fair_die_game.play(10000)"
   ]
  },
  {
   "cell_type": "markdown",
   "id": "7814b402-46a4-40e5-8141-20e05c3e646b",
   "metadata": {},
   "source": [
    "Task 5. Play another game of $10000$ rolls, this time with $2$ unfair dice, one as defined in steps #2 and #3 respectively, and $3$ fair dice.\n",
    "\n",
    "- Game class properly instantiated (1). \n",
    "- Play method called properly (1)."
   ]
  },
  {
   "cell_type": "code",
   "execution_count": 58,
   "id": "7cd58fba-b2a5-4d5d-bc6d-2a7a68d18c4f",
   "metadata": {},
   "outputs": [],
   "source": [
    "unfair_die_game = Game([die2, die3, die1, die1, die1])\n",
    "unfair_die_game.play(10000)"
   ]
  },
  {
   "cell_type": "markdown",
   "id": "7b6cd372-2bb8-4df8-ade1-8f48bc300955",
   "metadata": {},
   "source": [
    "Task 6. For each game, use an Analyzer object to determine the relative frequency of jackpots and show your results, comparing the two relative frequencies, in a simple bar chart.\n",
    "\n",
    "- Jackpot methods called (1).\n",
    "- Graph produced (1)."
   ]
  },
  {
   "cell_type": "code",
   "execution_count": 59,
   "id": "bbdcf695-8937-406e-9b53-aa0b9ee3c59a",
   "metadata": {},
   "outputs": [
    {
     "data": {
      "text/plain": [
       "<matplotlib.axes._subplots.AxesSubplot at 0x7f8b8c7d06a0>"
      ]
     },
     "execution_count": 59,
     "metadata": {},
     "output_type": "execute_result"
    },
    {
     "data": {
      "image/png": "[encoded data removed]",
      "text/plain": [
       "<Figure size 432x288 with 1 Axes>"
      ]
     },
     "metadata": {
      "needs_background": "light"
     },
     "output_type": "display_data"
    }
   ],
   "source": [
    "analyzer_fair_die = Analyzer(fair_die_game)\n",
    "analyzer_unfair_die = Analyzer(unfair_die_game)\n",
    "\n",
    "die_freq_fair = analyzer_fair_die.jackpot()/10000\n",
    "die_freq_unfair = analyzer_unfair_die.jackpot()/1000\n",
    "\n",
    "df = pd.DataFrame({\n",
    "    'Die Type': ['Fair', 'Unfair'],\n",
    "    'Relative Jackpot Frequency': [die_freq_fair, die_freq_unfair]\n",
    "})\n",
    "\n",
    "df.plot(kind='bar', x='Die Type', y='Relative Jackpot Frequency',\n",
    "        title='Jackpots',\n",
    "        legend=False, rot=0)"
   ]
  },
  {
   "cell_type": "markdown",
   "id": "9f04e9be-8fcf-4ea4-a391-6614608285f8",
   "metadata": {},
   "source": [
    "## Scenario 3: Letters of the Alphabet (7)\n",
    "\n",
    "Task 1. Create a \"die\" of letters from $A$ to $Z$ with weights based on their frequency of usage as found in the data file `english_letters.txt`. Use the frequencies (i.e. raw counts) as weights.\n",
    "\n",
    "- Die correctly instantiated with source file data (1).\n",
    "- Weights properly applied using weight setting method (1)."
   ]
  },
  {
   "cell_type": "code",
   "execution_count": 64,
   "id": "b0ceb771-3cdf-4d8f-8c2c-020806bbb909",
   "metadata": {},
   "outputs": [],
   "source": [
    "letter_freq_df = pd.read_csv('english_letters.txt', sep=' ', header=None, names=['letter', 'count'])\n",
    "\n",
    "faces = letter_df['letter'].to_numpy()\n",
    "weights = letter_df['count'].to_numpy(dtype=float)\n",
    "\n",
    "letter_die = Die(faces=np.array(faces))\n",
    "\n",
    "\n",
    "for i in range(len(faces)):\n",
    "    face = faces[i]\n",
    "    weight = weights[i]\n",
    "    letter_die.change_weight(face, weight)"
   ]
  },
  {
   "cell_type": "markdown",
   "id": "88e2e14a-6223-470a-a2c8-bca1120d7a5b",
   "metadata": {},
   "source": [
    "Task 2. Play a game involving $4$ of these dice with $1000$ rolls.\n",
    "\n",
    "- Game play method properly called (1)."
   ]
  },
  {
   "cell_type": "code",
   "execution_count": 67,
   "id": "2ae087cc-936d-4f1e-bddb-a7c179d139e0",
   "metadata": {},
   "outputs": [],
   "source": [
    "letter_game = Game([letter_die, letter_die, letter_die, letter_die])\n",
    "letter_game.play(1000)"
   ]
  },
  {
   "cell_type": "markdown",
   "id": "3b9ff800-bf1f-4f66-9d7f-ff57a648e9f0",
   "metadata": {},
   "source": [
    "Task 3. Determine how many permutations in your results are actual English words, based on the vocabulary found in `scrabble_words.txt`.\n",
    "\n",
    "- Use permutation method (1).\n",
    "- Get count as difference between permutations and vocabulary (1)."
   ]
  },
  {
   "cell_type": "code",
   "execution_count": null,
   "id": "ed1c7fa0-cfa3-4cf4-9fd0-9f84b86b0f64",
   "metadata": {},
   "outputs": [],
   "source": [
    "#I'm sorry - I'm too tired and I gave up - seems like a fun problem though"
   ]
  },
  {
   "cell_type": "markdown",
   "id": "fcf068cf-381a-4b3e-ac3a-0510eb4dbdb0",
   "metadata": {},
   "source": [
    "Task 4. Repeat steps #2 and #3, this time with $5$ dice. How many actual words does this produce? Which produces more?\n",
    "\n",
    "- Successfully repreats steps (1).\n",
    "- Identifies parameter with most found words (1)."
   ]
  }
 ],
 "metadata": {
  "kernelspec": {
   "display_name": "AMPTorch (20201028) Active Learning",
   "language": "python",
   "name": "amptorch-20201028-al"
  },
  "language_info": {
   "codemirror_mode": {
    "name": "ipython",
    "version": 3
   },
   "file_extension": ".py",
   "mimetype": "text/x-python",
   "name": "python",
   "nbconvert_exporter": "python",
   "pygments_lexer": "ipython3",
   "version": "3.6.13"
  },
  "toc-autonumbering": true,
  "widgets": {
   "application/vnd.jupyter.widget-state+json": {
    "state": {},
    "version_major": 2,
    "version_minor": 0
   }
  }
 },
 "nbformat": 4,
 "nbformat_minor": 5
}
